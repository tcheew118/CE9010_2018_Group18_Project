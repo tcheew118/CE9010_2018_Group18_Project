{
 "cells": [
  {
   "cell_type": "code",
   "execution_count": 1,
   "metadata": {
    "collapsed": true
   },
   "outputs": [],
   "source": [
    "# Import libraries\n",
    "\n",
    "# math library\n",
    "import numpy as np\n",
    "\n",
    "# visualization library\n",
    "%matplotlib inline\n",
    "from IPython.display import set_matplotlib_formats\n",
    "set_matplotlib_formats('png2x','pdf')\n",
    "import matplotlib.pyplot as plt\n",
    "\n",
    "# scikit-learn library\n",
    "from sklearn.preprocessing import PolynomialFeatures\n",
    "\n",
    "# scientific computing library\n",
    "from scipy.optimize import minimize\n",
    "\n",
    "# remove warning\n",
    "import warnings\n",
    "warnings.filterwarnings(\"ignore\", category=RuntimeWarning) \n",
    "\n",
    "# computational time\n",
    "import time"
   ]
  },
  {
   "cell_type": "code",
   "execution_count": 2,
   "metadata": {},
   "outputs": [
    {
     "name": "stdout",
     "output_type": "stream",
     "text": [
      "(30, 3)\n"
     ]
    }
   ],
   "source": [
    "# load\n",
    "train_data = np.loadtxt('data.txt', delimiter=',')\n",
    "print(train_data.shape)"
   ]
  },
  {
   "cell_type": "code",
   "execution_count": 4,
   "metadata": {
    "scrolled": false
   },
   "outputs": [
    {
     "name": "stdout",
     "output_type": "stream",
     "text": [
      "(30, 66)\n",
      "(30, 1)\n",
      "train loss= 0.0139176669708\n"
     ]
    }
   ],
   "source": [
    "\n",
    "# predictive function definition\n",
    "def f_pred(X,w): \n",
    "    f = X.dot(w)\n",
    "    return f\n",
    "\n",
    "# loss function definition\n",
    "def loss_mse(w,X,y,reg): \n",
    "    n = len(y)\n",
    "    w = w.squeeze()[:,None]\n",
    "    y_pred = f_pred(X,w)\n",
    "    loss = 1/n* (y_pred - y).T.dot(y_pred - y) \n",
    "    d = w.shape[0]\n",
    "    loss += reg/d * w.T.dot(w)\n",
    "    return loss\n",
    "\n",
    "def compute_w_solution(X,y,reg):\n",
    "    initial_w = np.zeros((X.shape[1],1))\n",
    "    losss = loss_mse(initial_w,X,y,reg)\n",
    "    result = minimize(loss_mse, initial_w, args=(X,y,reg), method='Powell', options={'maxiter':100})\n",
    "    w_solution = np.array(result.x)[:,None]\n",
    "    loss_solution = loss_mse(w_solution,X,y,reg)\n",
    "    return w_solution, loss_solution\n",
    "    \n",
    "    \n",
    "\n",
    "# polynomial data features\n",
    "d = 10\n",
    "poly = PolynomialFeatures(d)\n",
    "train_X = poly.fit_transform(train_data[:,0:2])\n",
    "print(train_X.shape)\n",
    "\n",
    "# data label\n",
    "train_y = train_data[:,2][:,None] \n",
    "print(train_y.shape)\n",
    "\n",
    "# compute solution w\n",
    "reg = 0.0\n",
    "train_w_solution, train_loss_solution = compute_w_solution(train_X,train_y,reg)\n",
    "print('train loss=',train_loss_solution[0][0])\n"
   ]
  },
  {
   "cell_type": "code",
   "execution_count": null,
   "metadata": {
    "collapsed": true
   },
   "outputs": [],
   "source": []
  }
 ],
 "metadata": {
  "kernelspec": {
   "display_name": "Python 3",
   "language": "python",
   "name": "python3"
  },
  "language_info": {
   "codemirror_mode": {
    "name": "ipython",
    "version": 3
   },
   "file_extension": ".py",
   "mimetype": "text/x-python",
   "name": "python",
   "nbconvert_exporter": "python",
   "pygments_lexer": "ipython3",
   "version": "3.6.4"
  }
 },
 "nbformat": 4,
 "nbformat_minor": 2
}
