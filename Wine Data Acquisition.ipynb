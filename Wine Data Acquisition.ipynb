{
 "cells": [
  {
   "cell_type": "markdown",
   "metadata": {},
   "source": [
    "# Project Wine (Part 1)\n",
    "## Data Acquisition of Red Wine Data from the Internet\n",
    "<hr>\n",
    "This notebook is the first part of the Project. We separate the project into several different notebooks (in line with the project guidelines):\n",
    "1. Data Acquisition (This notebook)\n",
    "2. Data Exploration ([Preprocessing](Project_Preprocess.ipynb))\n",
    "3. Data Analysis and Interpretation ([Linear Regression](Project_LinReg.ipynb), [scikit-learn](Project_Sklearn.ipynb))\n",
    "\n",
    "This allows us to work together in a more efficient manner, click on the links of the notebook to navigate around the project.\n",
    "\n",
    "Comments are available in the code snippets to aid in explaination."
   ]
  },
  {
   "cell_type": "markdown",
   "metadata": {},
   "source": [
    "In part 1 of the project, we are retrieveing the data from UCI Machine Learning Repository on Wine Quality.\n",
    "\n",
    "```urllib.request ``` is utilized to retrieve the data and downloaded to the project folder foe further use.\n",
    "\n",
    "For simplicity, red wine is chosen in this project for analysis."
   ]
  },
  {
   "cell_type": "markdown",
   "metadata": {},
   "source": [
    "### First, we import the necessary libraries"
   ]
  },
  {
   "cell_type": "code",
   "execution_count": 19,
   "metadata": {},
   "outputs": [],
   "source": [
    "# Import libraries\n",
    "\n",
    "# import pandas as pd\n",
    "import numpy as np\n",
    "\n",
    "import urllib"
   ]
  },
  {
   "cell_type": "markdown",
   "metadata": {},
   "source": [
    "### Then, we save the downloaded content to the a csv file"
   ]
  },
  {
   "cell_type": "code",
   "execution_count": 20,
   "metadata": {},
   "outputs": [],
   "source": [
    "# import data with urllib.request\n",
    "\n",
    "url = 'https://archive.ics.uci.edu/ml/machine-learning-databases'\n",
    "url += '/wine-quality/winequality-red.csv'\n",
    "response = urllib.request.urlopen(url)\n",
    "\n",
    "# data = pd.read_csv(response,sep=';')\n",
    "# display(data.head(n=5))\n",
    "# print(data.shape)\n",
    "\n",
    "# save into file for further use\n",
    "f = open(\"winequality-red.csv\", \"wb\")\n",
    "content = response.read()\n",
    "f.write(content)\n",
    "f.close()"
   ]
  },
  {
   "cell_type": "code",
   "execution_count": null,
   "metadata": {},
   "outputs": [],
   "source": []
  }
 ],
 "metadata": {
  "kernelspec": {
   "display_name": "Python 3",
   "language": "python",
   "name": "python3"
  },
  "language_info": {
   "codemirror_mode": {
    "name": "ipython",
    "version": 3
   },
   "file_extension": ".py",
   "mimetype": "text/x-python",
   "name": "python",
   "nbconvert_exporter": "python",
   "pygments_lexer": "ipython3",
   "version": "3.6.4"
  }
 },
 "nbformat": 4,
 "nbformat_minor": 2
}
